{
 "cells": [
  {
   "cell_type": "markdown",
   "id": "931d11c1-1c09-4968-aa3f-889cebdbeaa6",
   "metadata": {},
   "source": [
    "# Create an Sklearn TFIDF Vectorizer from Scratch\n",
    "\n",
    "![tfidf equation](static/tfidf-equation.jpeg)"
   ]
  },
  {
   "cell_type": "markdown",
   "id": "dded4945-7022-4153-81a2-2a883d6b9178",
   "metadata": {},
   "source": [
    "**Import a text dataset**\n",
    "\n",
    "Below we import a dataset of scraped policies proposed by the 2020 Democratic Presidential Candidates Bernie Sanders and Elizabeth Warren. \n",
    "\n",
    "In this notebook, we will create an sklearn `TfidfVectorizer` object and fit a Logistic Regression model to predict the candidate of the policy using each candidate's policy text as predictors. "
   ]
  },
  {
   "cell_type": "code",
   "execution_count": 5,
   "id": "67a5eae7-e14e-4240-8e20-1d5991062490",
   "metadata": {},
   "outputs": [
    {
     "data": {
      "text/html": [
       "<div>\n",
       "<style scoped>\n",
       "    .dataframe tbody tr th:only-of-type {\n",
       "        vertical-align: middle;\n",
       "    }\n",
       "\n",
       "    .dataframe tbody tr th {\n",
       "        vertical-align: top;\n",
       "    }\n",
       "\n",
       "    .dataframe thead th {\n",
       "        text-align: right;\n",
       "    }\n",
       "</style>\n",
       "<table border=\"1\" class=\"dataframe\">\n",
       "  <thead>\n",
       "    <tr style=\"text-align: right;\">\n",
       "      <th></th>\n",
       "      <th>name</th>\n",
       "      <th>policy</th>\n",
       "      <th>candidate</th>\n",
       "    </tr>\n",
       "  </thead>\n",
       "  <tbody>\n",
       "    <tr>\n",
       "      <th>0</th>\n",
       "      <td>100% Clean Energy for America</td>\n",
       "      <td>As published on Medium on September 3rd, 2019:...</td>\n",
       "      <td>warren</td>\n",
       "    </tr>\n",
       "    <tr>\n",
       "      <th>1</th>\n",
       "      <td>A Comprehensive Agenda to Boost America’s Smal...</td>\n",
       "      <td>Small businesses are the heart of our economy....</td>\n",
       "      <td>warren</td>\n",
       "    </tr>\n",
       "    <tr>\n",
       "      <th>2</th>\n",
       "      <td>A Fair and Welcoming Immigration System</td>\n",
       "      <td>As published on Medium on July 11th, 2019:\\nIm...</td>\n",
       "      <td>warren</td>\n",
       "    </tr>\n",
       "    <tr>\n",
       "      <th>3</th>\n",
       "      <td>A Fair Workweek for America’s Part-Time Workers</td>\n",
       "      <td>Working families all across the country are ge...</td>\n",
       "      <td>warren</td>\n",
       "    </tr>\n",
       "    <tr>\n",
       "      <th>4</th>\n",
       "      <td>A Great Public School Education for Every Student</td>\n",
       "      <td>I attended public school growing up in Oklahom...</td>\n",
       "      <td>warren</td>\n",
       "    </tr>\n",
       "  </tbody>\n",
       "</table>\n",
       "</div>"
      ],
      "text/plain": [
       "                                                name  \\\n",
       "0                      100% Clean Energy for America   \n",
       "1  A Comprehensive Agenda to Boost America’s Smal...   \n",
       "2            A Fair and Welcoming Immigration System   \n",
       "3    A Fair Workweek for America’s Part-Time Workers   \n",
       "4  A Great Public School Education for Every Student   \n",
       "\n",
       "                                              policy candidate  \n",
       "0  As published on Medium on September 3rd, 2019:...    warren  \n",
       "1  Small businesses are the heart of our economy....    warren  \n",
       "2  As published on Medium on July 11th, 2019:\\nIm...    warren  \n",
       "3  Working families all across the country are ge...    warren  \n",
       "4  I attended public school growing up in Oklahom...    warren  "
      ]
     },
     "execution_count": 5,
     "metadata": {},
     "output_type": "execute_result"
    }
   ],
   "source": [
    "import pandas as pd\n",
    "\n",
    "df = pd.read_csv('data/2020_policies_feb_24.csv')\n",
    "df.head()"
   ]
  },
  {
   "cell_type": "markdown",
   "id": "e00c4c5f-a948-4252-88a1-b1e6da1018a2",
   "metadata": {},
   "source": [
    "## Create a count vectorizer"
   ]
  },
  {
   "cell_type": "markdown",
   "id": "ec979482-fb07-414f-9214-0d58df2d39b8",
   "metadata": {},
   "source": [
    "The first step for calculating tfidf is to calculate the `tf` which stands for term frequency. \n",
    "\n",
    "To do this we will first create a `CountVectorizer` that when given a list of documents, the following matrix will be produced:\n",
    "- The rows of the matrix represent an individual document\n",
    "- The columns of the matrix represent an individual word\n",
    "- The values of the matrix represent the number of times a word occurs in a given document"
   ]
  },
  {
   "cell_type": "code",
   "execution_count": 152,
   "id": "b254e4aa-b7ed-4f69-a5e9-20059bd35563",
   "metadata": {},
   "outputs": [],
   "source": [
    "import numpy as np\n",
    "import scipy.sparse as sp\n",
    "\n",
    "class CountVectorizer:\n",
    "    \n",
    "    def fit_transform(self, docs):\n",
    "        \n",
    "        # Create a bag of words\n",
    "        tokens = docs.str.cat(sep=' ').split()\n",
    "        \n",
    "        # Assign a unique index val for each token\n",
    "        self.feature_idx = {}\n",
    "        idx = 0\n",
    "        for token in tokens:\n",
    "            if token not in self.feature_idx:\n",
    "                self.feature_idx[token] = idx\n",
    "                idx += 1\n",
    "        \n",
    "        # Create a list that will hold the index for each word, whenever it is counted\n",
    "        features = []\n",
    "        # Create a list that will hold the counts for each word\n",
    "        values = []\n",
    "        # Create a index pointer that will be used to create a sparse matrix\n",
    "        # See: https://docs.scipy.org/doc/scipy/reference/generated/scipy.sparse.csr_matrix.html\n",
    "        indptr = [0]\n",
    "        # Loop over each document\n",
    "        for doc in docs:\n",
    "            # Create a document frequency counter\n",
    "            feature_counter = {}\n",
    "            # Loop over each word\n",
    "            for token in doc.split():\n",
    "                # Collect the unique token index\n",
    "                token_idx = self.feature_idx[token]\n",
    "                # Update the frequency counter\n",
    "                # using the index for the word rather than\n",
    "                # the text data (This makes creating a sparse matrix easier)\n",
    "                if token_idx not in feature_counter:\n",
    "                    feature_counter[token_idx] = 1\n",
    "                else:\n",
    "                    feature_counter[token_idx] += 1\n",
    "            \n",
    "            # Extend the features list with the document's counted word indices\n",
    "            features.extend(feature_counter.keys())\n",
    "            # Extend the values list with the document's count frequences\n",
    "            values.extend(feature_counter.values())\n",
    "            # Update the index pointer to indicate that indptr[i]:indptr[i+1]\n",
    "            # indicate the data in `features` and `values` for a specific document\n",
    "            indptr.append(len(features))\n",
    "        \n",
    "        # Convert each list to numpy array\n",
    "        features = np.asarray(features)\n",
    "        indptr = np.asarray(indptr)\n",
    "        values = np.asarray(values)\n",
    "        \n",
    "        # Create a sparse matrix where \n",
    "        # each row represents a document\n",
    "        # each column represents a word\n",
    "        # each value represents the frequency a word in a document\n",
    "        X = sp.csr_matrix((values, features, indptr),\n",
    "                          shape=(len(indptr) - 1, len(self.feature_idx.keys())))\n",
    "        \n",
    "        # Sort the index so it aligns with the feature_index values\n",
    "        X.sort_indices()\n",
    "        \n",
    "        # Return the unique vocab and the sparse matrix\n",
    "        return list(self.feature_idx.keys()), X\n",
    "    "
   ]
  },
  {
   "cell_type": "markdown",
   "id": "5d45b25a-da36-4d78-85c7-4f1f04075bab",
   "metadata": {},
   "source": [
    "## Create a `TfidfTransformer`\n",
    "\n",
    "This object will receive the output of a `CounterVectorizer` and will product the `tfidf` matrix."
   ]
  },
  {
   "cell_type": "code",
   "execution_count": 152,
   "id": "4e3729b8-0ff5-487f-9bf2-de89b916a88b",
   "metadata": {},
   "outputs": [],
   "source": [
    "class TfidfTransformer:\n",
    "    \n",
    "    def fit(self, X):\n",
    "        \n",
    "        # Num rows and Num Columns\n",
    "        n_samples, n_features = X.shape\n",
    "        \n",
    "        # Document Frequency\n",
    "        # Count the number of times a word appears in a document\n",
    "        # (Here bincount is counting the number of times each column != 0)\n",
    "        df = np.bincount(X.indices, minlength=X.shape[1])\n",
    "        \n",
    "        # Inverse Document Frequency\n",
    "        # (Number of documents/ Document Frequency)\n",
    "        idf = np.log(n_samples / df) + 1\n",
    "        \n",
    "        # Get the diagonal of this result.\n",
    "        # This allows us to multiply the Inverse Document Frequency\n",
    "        # with the term frequency of every word, for every document\n",
    "        self._idf_diag = sp.diags(idf, offsets=0,\n",
    "                          shape=(n_features, n_features),\n",
    "                          format='csr',\n",
    "                          dtype=np.float64)\n",
    "\n",
    "    def transform(self, X):\n",
    "        n_samples, n_features = X.shape\n",
    "        X = X * self._idf_diag\n",
    "        return X"
   ]
  },
  {
   "cell_type": "markdown",
   "id": "3e8fab36-5038-4133-950b-2af295a0e90d",
   "metadata": {},
   "source": [
    "## Create a `TfidfVectorizer`\n",
    "\n",
    "This object will:\n",
    "- Inherit the `fit_transform` method from `CountVectorizer`\n",
    "- Receive a list of documents \n",
    "- Transform the documents using `CountVectorizer.transform`\n",
    "- Fit a `TfidfTransformer` object\n",
    "- Transform the data using `TfidfTransformer.transform`. "
   ]
  },
  {
   "cell_type": "code",
   "execution_count": null,
   "id": "2535e698-e14b-4c84-a8eb-5bd2c3cf0c6f",
   "metadata": {},
   "outputs": [],
   "source": [
    "class TfidfVectorizer(CountVectorizer):\n",
    "\n",
    "        def fit(self, docs):\n",
    "            vocab, X = super().fit_transform(docs)\n",
    "            self.transformer = TfidfTransform()\n",
    "            self.transformer.fit(X)\n",
    "            \n",
    "        \n",
    "        def transform(self, X):\n",
    "            if not sp.issparse(X):\n",
    "                vocab, X = super().fit_transform(X)\n",
    "            return self.transformer.transform(X)"
   ]
  },
  {
   "cell_type": "markdown",
   "id": "57304134-ede9-41c3-b1a3-c8b716cc9ee3",
   "metadata": {},
   "source": [
    "## Test our work\n",
    "\n",
    "In the cell below, we initialize our `TfidfVecotizer` and fit it to the text data."
   ]
  },
  {
   "cell_type": "code",
   "execution_count": 165,
   "id": "783d1191-6606-427f-9298-26fe5ba4a6ca",
   "metadata": {},
   "outputs": [],
   "source": [
    "tfidf = TfidfVectorizer()\n",
    "tfidf.fit(df.policy)\n",
    "X_tfidf = tfidf.transform(df.policy)"
   ]
  },
  {
   "cell_type": "markdown",
   "id": "1f6e518c-726f-4994-bc78-bed2fd60486d",
   "metadata": {},
   "source": [
    "**Now let's fit a classifier to the transformed data**"
   ]
  },
  {
   "cell_type": "code",
   "execution_count": 170,
   "id": "02bc2a81-0aac-4699-9cee-fb573c82bd33",
   "metadata": {},
   "outputs": [
    {
     "name": "stdout",
     "output_type": "stream",
     "text": [
      "Train score: 100%\n",
      "Test score: 89%\n"
     ]
    }
   ],
   "source": [
    "# Import modeling tools\n",
    "from sklearn.model_selection import train_test_split\n",
    "from sklearn.linear_model import LogisticRegression\n",
    "from sklearn.metrics import plot_confusion_matrix\n",
    "\n",
    "# Create a train test split\n",
    "X_train, X_test, y_train, y_test = train_test_split(X_tfidf, df.candidate)\n",
    "\n",
    "# Initialize and fit a model\n",
    "model = LogisticRegression()\n",
    "model.fit(X_train, y_train)\n",
    "\n",
    "# Print train and test scores\n",
    "train_score = model.score(X_train, y_train)\n",
    "test_score = model.score(X_test, y_test)\n",
    "\n",
    "print('Train score:', '{:.0%}'.format(train_score))\n",
    "print('Test score:', '{:.0%}'.format(test_score))"
   ]
  }
 ],
 "metadata": {
  "kernelspec": {
   "display_name": "Python 3",
   "language": "python",
   "name": "python3"
  },
  "language_info": {
   "codemirror_mode": {
    "name": "ipython",
    "version": 3
   },
   "file_extension": ".py",
   "mimetype": "text/x-python",
   "name": "python",
   "nbconvert_exporter": "python",
   "pygments_lexer": "ipython3",
   "version": "3.8.8"
  }
 },
 "nbformat": 4,
 "nbformat_minor": 5
}
